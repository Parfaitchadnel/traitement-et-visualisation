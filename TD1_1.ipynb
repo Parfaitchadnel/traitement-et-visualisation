{
 "cells": [
  {
   "cell_type": "code",
   "execution_count": 11,
   "metadata": {},
   "outputs": [],
   "source": [
    "import pandas as pd\n",
    "import numpy as np\n",
    "import matplotlib.pyplot as plt\n",
    "import seaborn as sns"
   ]
  },
  {
   "cell_type": "code",
   "execution_count": 12,
   "metadata": {},
   "outputs": [],
   "source": [
    "# 1. Charger le dataset\n",
    "df = pd.read_csv('netflix_titles.csv')"
   ]
  },
  {
   "cell_type": "code",
   "execution_count": 13,
   "metadata": {},
   "outputs": [
    {
     "name": "stdout",
     "output_type": "stream",
     "text": [
      "\n",
      "2. Dimensions du dataset: (8807, 12)\n"
     ]
    }
   ],
   "source": [
    "# 2. Nombre de lignes et colonnes\n",
    "print(\"\\n2. Dimensions du dataset:\", df.shape)"
   ]
  },
  {
   "cell_type": "code",
   "execution_count": 14,
   "metadata": {},
   "outputs": [
    {
     "name": "stdout",
     "output_type": "stream",
     "text": [
      "\n",
      "3. Échantillon:\n",
      "     show_id     type                                         title  \\\n",
      "6916   s6917    Movie               Hank: Five Years from the Brink   \n",
      "3910   s3911    Movie                             Bollywood Calling   \n",
      "58       s59    Movie  Naruto Shippûden the Movie: The Will of Fire   \n",
      "1896   s1897    Movie                                       Òlòtūré   \n",
      "3884   s3885  TV Show                             Ash vs. Evil Dead   \n",
      "8052   s8053    Movie     Solo: A Star Wars Story (Spanish Version)   \n",
      "4849   s4850    Movie                      Fernando Sanjiao: Hombre   \n",
      "8012   s8013    Movie                                       Shuddhi   \n",
      "3921   s3922    Movie      Who Would You Take to a Deserted Island?   \n",
      "7174   s7175    Movie                               Kay Dyache Bola   \n",
      "\n",
      "                    director  \\\n",
      "6916           Joe Berlinger   \n",
      "3910         Nagesh Kukunoor   \n",
      "58           Masahiko Murata   \n",
      "1896           Kenneth Gyang   \n",
      "3884                     NaN   \n",
      "8052              Ron Howard   \n",
      "4849  Raúl Campos, Jan Suter   \n",
      "8012       Adarsh Eshwarappa   \n",
      "3921            Jota Linares   \n",
      "7174    Chandrakant Kulkarni   \n",
      "\n",
      "                                                   cast               country  \\\n",
      "6916                       Henry Paulson, Wendy Paulson         United States   \n",
      "3910  Om Puri, Pat Cusick, Navin Nischol, Perizaad Z...                 India   \n",
      "58    Junko Takeuchi, Chie Nakamura, Kazuhiko Inoue,...                 Japan   \n",
      "1896  Beverly Osu, Sharon Ooja, Omowunmi Dada, Pearl...               Nigeria   \n",
      "3884  Bruce Campbell, Lucy Lawless, Ray Santiago, Da...         United States   \n",
      "8052  Alden Ehrenreich, Woody Harrelson, Emilia Clar...         United States   \n",
      "4849                                   Fernando Sanjiao             Argentina   \n",
      "8012  Lauren Spartano, Niveditha, Amrutha Karagada, ...  India, United States   \n",
      "3921  María Pedraza, Jaime Lorente, Pol Monen, Andre...                 Spain   \n",
      "7174  Makarand Anaspure, Akshay Pendse, Umesh Kamat,...                 India   \n",
      "\n",
      "              date_added  release_year rating   duration  \\\n",
      "6916     August 25, 2018          2013  TV-14     86 min   \n",
      "3910      April 15, 2019          2001  TV-MA    102 min   \n",
      "58    September 15, 2021          2009  TV-PG     96 min   \n",
      "1896     October 2, 2020          2020  TV-MA    107 min   \n",
      "3884      April 29, 2019          2018  TV-MA  3 Seasons   \n",
      "8052     January 9, 2019          2018  PG-13    135 min   \n",
      "4849        May 25, 2018          2018  TV-MA     63 min   \n",
      "8012       March 1, 2018          2017  TV-14    115 min   \n",
      "3921      April 13, 2019          2019  TV-MA     94 min   \n",
      "7174     January 1, 2018          2005  TV-14    133 min   \n",
      "\n",
      "                                              listed_in  \\\n",
      "6916                                      Documentaries   \n",
      "3910             Comedies, Dramas, International Movies   \n",
      "58    Action & Adventure, Anime Features, Internatio...   \n",
      "1896                       Dramas, International Movies   \n",
      "3884      TV Action & Adventure, TV Comedies, TV Horror   \n",
      "8052  Action & Adventure, Children & Family Movies, ...   \n",
      "4849                                    Stand-Up Comedy   \n",
      "8012            Dramas, International Movies, Thrillers   \n",
      "3921                       Dramas, International Movies   \n",
      "7174             Comedies, Dramas, International Movies   \n",
      "\n",
      "                                            description  \n",
      "6916  From Joe Berlinger, director of the \"Paradise ...  \n",
      "3910  A down-and-out Hollywood actor is utterly unpr...  \n",
      "58    When four out of five ninja villages are destr...  \n",
      "1896  In Lagos, a journalist goes undercover as a pr...  \n",
      "3884  Thirty years later, Ash Williams – demon hunte...  \n",
      "8052  A young Han Solo tries to settle an old score ...  \n",
      "4849  Argentine actor and comedian Fernando Sanjiao ...  \n",
      "8012  An American woman on a revenge mission travels...  \n",
      "3921  On their last night together, four longtime fl...  \n",
      "7174  Wrongfully accused of murder, two students' la...  \n"
     ]
    }
   ],
   "source": [
    "# 3. Échantillon de 10 lignes\n",
    "print(\"\\n3. Échantillon:\")\n",
    "print(df.sample(10))"
   ]
  },
  {
   "cell_type": "code",
   "execution_count": 15,
   "metadata": {},
   "outputs": [
    {
     "data": {
      "text/plain": [
       "show_id         object\n",
       "type            object\n",
       "title           object\n",
       "director        object\n",
       "cast            object\n",
       "country         object\n",
       "date_added      object\n",
       "release_year     int64\n",
       "rating          object\n",
       "duration        object\n",
       "listed_in       object\n",
       "description     object\n",
       "dtype: object"
      ]
     },
     "execution_count": 15,
     "metadata": {},
     "output_type": "execute_result"
    }
   ],
   "source": [
    "# 4. Noms des colonnes et types\n",
    "df.dtypes"
   ]
  },
  {
   "cell_type": "code",
   "execution_count": 21,
   "metadata": {},
   "outputs": [
    {
     "name": "stdout",
     "output_type": "stream",
     "text": [
      "\n",
      "5. Statistiques descriptives:\n",
      "       release_year\n",
      "count   8807.000000\n",
      "mean    2014.180198\n",
      "std        8.819312\n",
      "min     1925.000000\n",
      "25%     2013.000000\n",
      "50%     2017.000000\n",
      "75%     2019.000000\n",
      "max     2021.000000\n"
     ]
    }
   ],
   "source": [
    "# 5. Résumé statistique\n",
    "print(\"\\n5. Statistiques descriptives:\")\n",
    "print(df.describe())"
   ]
  },
  {
   "cell_type": "code",
   "execution_count": 17,
   "metadata": {},
   "outputs": [
    {
     "name": "stdout",
     "output_type": "stream",
     "text": [
      "\n",
      "6. Colonnes avec valeurs manquantes:\n",
      "director      2634\n",
      "cast           825\n",
      "country        831\n",
      "date_added      10\n",
      "rating           4\n",
      "duration         3\n",
      "dtype: int64\n"
     ]
    }
   ],
   "source": [
    "# 6. Colonnes avec valeurs manquantes\n",
    "print(\"\\n6. Colonnes avec valeurs manquantes:\")\n",
    "print(df.isnull().sum()[df.isnull().sum() > 0])"
   ]
  },
  {
   "cell_type": "code",
   "execution_count": 18,
   "metadata": {},
   "outputs": [
    {
     "name": "stdout",
     "output_type": "stream",
     "text": [
      "\n",
      "7. Pourcentage de valeurs manquantes:\n",
      "show_id          0.000000\n",
      "type             0.000000\n",
      "title            0.000000\n",
      "director        29.908028\n",
      "cast             9.367549\n",
      "country          9.435676\n",
      "date_added       0.113546\n",
      "release_year     0.000000\n",
      "rating           0.045418\n",
      "duration         0.034064\n",
      "listed_in        0.000000\n",
      "description      0.000000\n",
      "dtype: float64\n"
     ]
    }
   ],
   "source": [
    "# 7. Pourcentage de valeurs manquantes\n",
    "print(\"\\n7. Pourcentage de valeurs manquantes:\")\n",
    "print((df.isnull().sum() / len(df)) * 100)"
   ]
  },
  {
   "cell_type": "code",
   "execution_count": 22,
   "metadata": {},
   "outputs": [],
   "source": [
    "# 8. Supprimer les colonnes avec >50% de valeurs manquantes\n",
    "df = df.loc[:, df.isnull().mean() < 0.5]"
   ]
  },
  {
   "cell_type": "code",
   "execution_count": 23,
   "metadata": {},
   "outputs": [
    {
     "name": "stderr",
     "output_type": "stream",
     "text": [
      "/tmp/ipykernel_4849/655200351.py:5: FutureWarning: A value is trying to be set on a copy of a DataFrame or Series through chained assignment using an inplace method.\n",
      "The behavior will change in pandas 3.0. This inplace method will never work because the intermediate object on which we are setting values always behaves as a copy.\n",
      "\n",
      "For example, when doing 'df[col].method(value, inplace=True)', try using 'df.method({col: value}, inplace=True)' or df[col] = df[col].method(value) instead, to perform the operation inplace on the original object.\n",
      "\n",
      "\n",
      "  df[col].fillna(df[col].median(), inplace=True)\n"
     ]
    }
   ],
   "source": [
    "# 9. Remplacer les valeurs manquantes numériques par la médiane\n",
    "num_cols = df.select_dtypes(include=['number']).columns\n",
    "\n",
    "for col in num_cols:\n",
    "    df[col].fillna(df[col].median(), inplace=True)\n"
   ]
  },
  {
   "cell_type": "code",
   "execution_count": 24,
   "metadata": {},
   "outputs": [
    {
     "name": "stderr",
     "output_type": "stream",
     "text": [
      "/tmp/ipykernel_4849/1389720871.py:4: FutureWarning: A value is trying to be set on a copy of a DataFrame or Series through chained assignment using an inplace method.\n",
      "The behavior will change in pandas 3.0. This inplace method will never work because the intermediate object on which we are setting values always behaves as a copy.\n",
      "\n",
      "For example, when doing 'df[col].method(value, inplace=True)', try using 'df.method({col: value}, inplace=True)' or df[col] = df[col].method(value) instead, to perform the operation inplace on the original object.\n",
      "\n",
      "\n",
      "  df[col].fillna(df[col].mode()[0], inplace=True)\n"
     ]
    }
   ],
   "source": [
    "# 10. Remplacer valeurs manquantes catégorielles par la modalité la plus fréquente\n",
    "cat_cols = df.select_dtypes(include=['object']).columns\n",
    "for col in cat_cols:\n",
    "    df[col].fillna(df[col].mode()[0], inplace=True)\n"
   ]
  },
  {
   "cell_type": "code",
   "execution_count": 25,
   "metadata": {},
   "outputs": [
    {
     "name": "stdout",
     "output_type": "stream",
     "text": [
      "\n",
      "Nombre de doublons: 0\n"
     ]
    }
   ],
   "source": [
    "# 11. Nombre de doublons\n",
    "print(\"\\nNombre de doublons:\", df.duplicated().sum())"
   ]
  },
  {
   "cell_type": "code",
   "execution_count": 26,
   "metadata": {},
   "outputs": [
    {
     "name": "stdout",
     "output_type": "stream",
     "text": [
      "\n",
      "Nouvelle dimension: (8807, 12)\n"
     ]
    }
   ],
   "source": [
    "# 12. Supprimer les doublons et afficher la nouvelle dimension\n",
    "df = df.drop_duplicates()\n",
    "print(\"\\nNouvelle dimension:\", df.shape)"
   ]
  },
  {
   "cell_type": "code",
   "execution_count": 27,
   "metadata": {},
   "outputs": [
    {
     "data": {
      "image/png": "[encoded data removed]",
      "text/plain": [
       "<Figure size 800x400 with 1 Axes>"
      ]
     },
     "metadata": {},
     "output_type": "display_data"
    }
   ],
   "source": [
    "# 13. Boxplot d'une colonne numérique (exemple fictif si disponible)\n",
    "# Pas de colonne numérique utile, mais si une durée est présente :\n",
    "if 'duration' in df.columns:\n",
    "    plt.figure(figsize=(8, 4))\n",
    "    sns.boxplot(x=df['duration'])\n",
    "    plt.title('Boxplot de la durée des titres')\n",
    "    plt.show()"
   ]
  },
  {
   "cell_type": "code",
   "execution_count": 28,
   "metadata": {},
   "outputs": [
    {
     "name": "stdout",
     "output_type": "stream",
     "text": [
      "\n",
      "14. Nombre d'outliers: 2\n"
     ]
    }
   ],
   "source": [
    "# 14. Détection des outliers avec IQR (si applicable)\n",
    "# Exemple avec la colonne duration si convertie en nombre\n",
    "if 'duration' in df.columns and df['duration'].str.contains('min').any():\n",
    "    df['duration_num'] = df['duration'].str.extract('(\\d+)').astype(float)\n",
    "    Q1 = df['duration_num'].quantile(0.25)\n",
    "    Q3 = df['duration_num'].quantile(0.75)\n",
    "    IQR = Q3 - Q1\n",
    "    outliers = df[(df['duration_num'] < Q1 - 1.5 * IQR) | (df['duration_num'] > Q3 + 1.5 * IQR)]\n",
    "    print(\"\\n14. Nombre d'outliers:\", outliers.shape[0])"
   ]
  },
  {
   "cell_type": "code",
   "execution_count": 29,
   "metadata": {},
   "outputs": [],
   "source": [
    "#15. Suppression des outliers\n",
    "df = df[~((df['duration_num'] < Q1 - 1.5 * IQR) | (df['duration_num'] > Q3 + 1.5 * IQR))]"
   ]
  },
  {
   "cell_type": "code",
   "execution_count": 30,
   "metadata": {},
   "outputs": [
    {
     "ename": "ValueError",
     "evalue": "time data \" August 4, 2017\" doesn't match format \"%B %d, %Y\", at position 1441. You might want to try:\n    - passing `format` if your strings have a consistent format;\n    - passing `format='ISO8601'` if your strings are all ISO8601 but not necessarily in exactly the same format;\n    - passing `format='mixed'`, and the format will be inferred for each element individually. You might want to use `dayfirst` alongside this.",
     "output_type": "error",
     "traceback": [
      "\u001b[0;31m---------------------------------------------------------------------------\u001b[0m",
      "\u001b[0;31mValueError\u001b[0m                                Traceback (most recent call last)",
      "Cell \u001b[0;32mIn[30], line 3\u001b[0m\n\u001b[1;32m      1\u001b[0m \u001b[38;5;66;03m# 16. Conversion de la date d'ajout en datetime\u001b[39;00m\n\u001b[1;32m      2\u001b[0m \u001b[38;5;28;01mif\u001b[39;00m \u001b[38;5;124m'\u001b[39m\u001b[38;5;124mdate_added\u001b[39m\u001b[38;5;124m'\u001b[39m \u001b[38;5;129;01min\u001b[39;00m df\u001b[38;5;241m.\u001b[39mcolumns:\n\u001b[0;32m----> 3\u001b[0m     df[\u001b[38;5;124m'\u001b[39m\u001b[38;5;124mdate_added\u001b[39m\u001b[38;5;124m'\u001b[39m] \u001b[38;5;241m=\u001b[39m \u001b[43mpd\u001b[49m\u001b[38;5;241;43m.\u001b[39;49m\u001b[43mto_datetime\u001b[49m\u001b[43m(\u001b[49m\u001b[43mdf\u001b[49m\u001b[43m[\u001b[49m\u001b[38;5;124;43m'\u001b[39;49m\u001b[38;5;124;43mdate_added\u001b[39;49m\u001b[38;5;124;43m'\u001b[39;49m\u001b[43m]\u001b[49m\u001b[43m)\u001b[49m\n\u001b[1;32m      4\u001b[0m     df[\u001b[38;5;124m'\u001b[39m\u001b[38;5;124myear_added\u001b[39m\u001b[38;5;124m'\u001b[39m] \u001b[38;5;241m=\u001b[39m df[\u001b[38;5;124m'\u001b[39m\u001b[38;5;124mdate_added\u001b[39m\u001b[38;5;124m'\u001b[39m]\u001b[38;5;241m.\u001b[39mdt\u001b[38;5;241m.\u001b[39myear\n\u001b[1;32m      5\u001b[0m     df[\u001b[38;5;124m'\u001b[39m\u001b[38;5;124mmonth_added\u001b[39m\u001b[38;5;124m'\u001b[39m] \u001b[38;5;241m=\u001b[39m df[\u001b[38;5;124m'\u001b[39m\u001b[38;5;124mdate_added\u001b[39m\u001b[38;5;124m'\u001b[39m]\u001b[38;5;241m.\u001b[39mdt\u001b[38;5;241m.\u001b[39mmonth\n",
      "File \u001b[0;32m~/miniconda3/envs/datascience/lib/python3.9/site-packages/pandas/core/tools/datetimes.py:1063\u001b[0m, in \u001b[0;36mto_datetime\u001b[0;34m(arg, errors, dayfirst, yearfirst, utc, format, exact, unit, infer_datetime_format, origin, cache)\u001b[0m\n\u001b[1;32m   1061\u001b[0m             result \u001b[38;5;241m=\u001b[39m arg\u001b[38;5;241m.\u001b[39mtz_localize(\u001b[38;5;124m\"\u001b[39m\u001b[38;5;124mutc\u001b[39m\u001b[38;5;124m\"\u001b[39m)\n\u001b[1;32m   1062\u001b[0m \u001b[38;5;28;01melif\u001b[39;00m \u001b[38;5;28misinstance\u001b[39m(arg, ABCSeries):\n\u001b[0;32m-> 1063\u001b[0m     cache_array \u001b[38;5;241m=\u001b[39m \u001b[43m_maybe_cache\u001b[49m\u001b[43m(\u001b[49m\u001b[43marg\u001b[49m\u001b[43m,\u001b[49m\u001b[43m \u001b[49m\u001b[38;5;28;43mformat\u001b[39;49m\u001b[43m,\u001b[49m\u001b[43m \u001b[49m\u001b[43mcache\u001b[49m\u001b[43m,\u001b[49m\u001b[43m \u001b[49m\u001b[43mconvert_listlike\u001b[49m\u001b[43m)\u001b[49m\n\u001b[1;32m   1064\u001b[0m     \u001b[38;5;28;01mif\u001b[39;00m \u001b[38;5;129;01mnot\u001b[39;00m cache_array\u001b[38;5;241m.\u001b[39mempty:\n\u001b[1;32m   1065\u001b[0m         result \u001b[38;5;241m=\u001b[39m arg\u001b[38;5;241m.\u001b[39mmap(cache_array)\n",
      "File \u001b[0;32m~/miniconda3/envs/datascience/lib/python3.9/site-packages/pandas/core/tools/datetimes.py:247\u001b[0m, in \u001b[0;36m_maybe_cache\u001b[0;34m(arg, format, cache, convert_listlike)\u001b[0m\n\u001b[1;32m    245\u001b[0m unique_dates \u001b[38;5;241m=\u001b[39m unique(arg)\n\u001b[1;32m    246\u001b[0m \u001b[38;5;28;01mif\u001b[39;00m \u001b[38;5;28mlen\u001b[39m(unique_dates) \u001b[38;5;241m<\u001b[39m \u001b[38;5;28mlen\u001b[39m(arg):\n\u001b[0;32m--> 247\u001b[0m     cache_dates \u001b[38;5;241m=\u001b[39m \u001b[43mconvert_listlike\u001b[49m\u001b[43m(\u001b[49m\u001b[43munique_dates\u001b[49m\u001b[43m,\u001b[49m\u001b[43m \u001b[49m\u001b[38;5;28;43mformat\u001b[39;49m\u001b[43m)\u001b[49m\n\u001b[1;32m    248\u001b[0m     \u001b[38;5;66;03m# GH#45319\u001b[39;00m\n\u001b[1;32m    249\u001b[0m     \u001b[38;5;28;01mtry\u001b[39;00m:\n",
      "File \u001b[0;32m~/miniconda3/envs/datascience/lib/python3.9/site-packages/pandas/core/tools/datetimes.py:433\u001b[0m, in \u001b[0;36m_convert_listlike_datetimes\u001b[0;34m(arg, format, name, utc, unit, errors, dayfirst, yearfirst, exact)\u001b[0m\n\u001b[1;32m    431\u001b[0m \u001b[38;5;66;03m# `format` could be inferred, or user didn't ask for mixed-format parsing.\u001b[39;00m\n\u001b[1;32m    432\u001b[0m \u001b[38;5;28;01mif\u001b[39;00m \u001b[38;5;28mformat\u001b[39m \u001b[38;5;129;01mis\u001b[39;00m \u001b[38;5;129;01mnot\u001b[39;00m \u001b[38;5;28;01mNone\u001b[39;00m \u001b[38;5;129;01mand\u001b[39;00m \u001b[38;5;28mformat\u001b[39m \u001b[38;5;241m!=\u001b[39m \u001b[38;5;124m\"\u001b[39m\u001b[38;5;124mmixed\u001b[39m\u001b[38;5;124m\"\u001b[39m:\n\u001b[0;32m--> 433\u001b[0m     \u001b[38;5;28;01mreturn\u001b[39;00m \u001b[43m_array_strptime_with_fallback\u001b[49m\u001b[43m(\u001b[49m\u001b[43marg\u001b[49m\u001b[43m,\u001b[49m\u001b[43m \u001b[49m\u001b[43mname\u001b[49m\u001b[43m,\u001b[49m\u001b[43m \u001b[49m\u001b[43mutc\u001b[49m\u001b[43m,\u001b[49m\u001b[43m \u001b[49m\u001b[38;5;28;43mformat\u001b[39;49m\u001b[43m,\u001b[49m\u001b[43m \u001b[49m\u001b[43mexact\u001b[49m\u001b[43m,\u001b[49m\u001b[43m \u001b[49m\u001b[43merrors\u001b[49m\u001b[43m)\u001b[49m\n\u001b[1;32m    435\u001b[0m result, tz_parsed \u001b[38;5;241m=\u001b[39m objects_to_datetime64(\n\u001b[1;32m    436\u001b[0m     arg,\n\u001b[1;32m    437\u001b[0m     dayfirst\u001b[38;5;241m=\u001b[39mdayfirst,\n\u001b[0;32m   (...)\u001b[0m\n\u001b[1;32m    441\u001b[0m     allow_object\u001b[38;5;241m=\u001b[39m\u001b[38;5;28;01mTrue\u001b[39;00m,\n\u001b[1;32m    442\u001b[0m )\n\u001b[1;32m    444\u001b[0m \u001b[38;5;28;01mif\u001b[39;00m tz_parsed \u001b[38;5;129;01mis\u001b[39;00m \u001b[38;5;129;01mnot\u001b[39;00m \u001b[38;5;28;01mNone\u001b[39;00m:\n\u001b[1;32m    445\u001b[0m     \u001b[38;5;66;03m# We can take a shortcut since the datetime64 numpy array\u001b[39;00m\n\u001b[1;32m    446\u001b[0m     \u001b[38;5;66;03m# is in UTC\u001b[39;00m\n",
      "File \u001b[0;32m~/miniconda3/envs/datascience/lib/python3.9/site-packages/pandas/core/tools/datetimes.py:467\u001b[0m, in \u001b[0;36m_array_strptime_with_fallback\u001b[0;34m(arg, name, utc, fmt, exact, errors)\u001b[0m\n\u001b[1;32m    456\u001b[0m \u001b[38;5;28;01mdef\u001b[39;00m\u001b[38;5;250m \u001b[39m\u001b[38;5;21m_array_strptime_with_fallback\u001b[39m(\n\u001b[1;32m    457\u001b[0m     arg,\n\u001b[1;32m    458\u001b[0m     name,\n\u001b[0;32m   (...)\u001b[0m\n\u001b[1;32m    462\u001b[0m     errors: \u001b[38;5;28mstr\u001b[39m,\n\u001b[1;32m    463\u001b[0m ) \u001b[38;5;241m-\u001b[39m\u001b[38;5;241m>\u001b[39m Index:\n\u001b[1;32m    464\u001b[0m \u001b[38;5;250m    \u001b[39m\u001b[38;5;124;03m\"\"\"\u001b[39;00m\n\u001b[1;32m    465\u001b[0m \u001b[38;5;124;03m    Call array_strptime, with fallback behavior depending on 'errors'.\u001b[39;00m\n\u001b[1;32m    466\u001b[0m \u001b[38;5;124;03m    \"\"\"\u001b[39;00m\n\u001b[0;32m--> 467\u001b[0m     result, tz_out \u001b[38;5;241m=\u001b[39m \u001b[43marray_strptime\u001b[49m\u001b[43m(\u001b[49m\u001b[43marg\u001b[49m\u001b[43m,\u001b[49m\u001b[43m \u001b[49m\u001b[43mfmt\u001b[49m\u001b[43m,\u001b[49m\u001b[43m \u001b[49m\u001b[43mexact\u001b[49m\u001b[38;5;241;43m=\u001b[39;49m\u001b[43mexact\u001b[49m\u001b[43m,\u001b[49m\u001b[43m \u001b[49m\u001b[43merrors\u001b[49m\u001b[38;5;241;43m=\u001b[39;49m\u001b[43merrors\u001b[49m\u001b[43m,\u001b[49m\u001b[43m \u001b[49m\u001b[43mutc\u001b[49m\u001b[38;5;241;43m=\u001b[39;49m\u001b[43mutc\u001b[49m\u001b[43m)\u001b[49m\n\u001b[1;32m    468\u001b[0m     \u001b[38;5;28;01mif\u001b[39;00m tz_out \u001b[38;5;129;01mis\u001b[39;00m \u001b[38;5;129;01mnot\u001b[39;00m \u001b[38;5;28;01mNone\u001b[39;00m:\n\u001b[1;32m    469\u001b[0m         unit \u001b[38;5;241m=\u001b[39m np\u001b[38;5;241m.\u001b[39mdatetime_data(result\u001b[38;5;241m.\u001b[39mdtype)[\u001b[38;5;241m0\u001b[39m]\n",
      "File \u001b[0;32mstrptime.pyx:501\u001b[0m, in \u001b[0;36mpandas._libs.tslibs.strptime.array_strptime\u001b[0;34m()\u001b[0m\n",
      "File \u001b[0;32mstrptime.pyx:451\u001b[0m, in \u001b[0;36mpandas._libs.tslibs.strptime.array_strptime\u001b[0;34m()\u001b[0m\n",
      "File \u001b[0;32mstrptime.pyx:583\u001b[0m, in \u001b[0;36mpandas._libs.tslibs.strptime._parse_with_format\u001b[0;34m()\u001b[0m\n",
      "\u001b[0;31mValueError\u001b[0m: time data \" August 4, 2017\" doesn't match format \"%B %d, %Y\", at position 1441. You might want to try:\n    - passing `format` if your strings have a consistent format;\n    - passing `format='ISO8601'` if your strings are all ISO8601 but not necessarily in exactly the same format;\n    - passing `format='mixed'`, and the format will be inferred for each element individually. You might want to use `dayfirst` alongside this."
     ]
    }
   ],
   "source": [
    "# 16. Conversion de la date d'ajout en datetime\n",
    "if 'date_added' in df.columns:\n",
    "    df['date_added'] = pd.to_datetime(df['date_added'])\n",
    "    df['year_added'] = df['date_added'].dt.year\n",
    "    df['month_added'] = df['date_added'].dt.month\n",
    "    df['day_added'] = df['date_added'].dt.day"
   ]
  },
  {
   "cell_type": "code",
   "execution_count": 31,
   "metadata": {},
   "outputs": [],
   "source": [
    "# 17. One-hot encoding sur une colonne catégorielle (ex: type)\n",
    "df = pd.get_dummies(df, columns=['type'], drop_first=True)"
   ]
  },
  {
   "cell_type": "code",
   "execution_count": 32,
   "metadata": {},
   "outputs": [],
   "source": [
    "# 18. Normalisation d'une colonne numérique (ex: durée)\n",
    "if 'duration_num' in df.columns:\n",
    "    df['duration_norm'] = (df['duration_num'] - df['duration_num'].min()) / (df['duration_num'].max() - df['duration_num'].min())\n"
   ]
  },
  {
   "cell_type": "code",
   "execution_count": 33,
   "metadata": {},
   "outputs": [],
   "source": [
    "# 19. Indication si une personne est majeure (fictif - pas dans ce dataset)\n",
    "# On peut illustrer avec un champ fictif \"age_rating\" s'il existait\n",
    "if 'rating' in df.columns:\n",
    "    df['majeur'] = df['rating'].isin(['R', 'TV-MA', 'NC-17'])"
   ]
  },
  {
   "cell_type": "code",
   "execution_count": 34,
   "metadata": {},
   "outputs": [],
   "source": [
    "# 20. Catégoriser une variable continue (ex: durée en minutes)\n",
    "if 'duration_num' in df.columns:\n",
    "    df['categorie_duree'] = pd.cut(df['duration_num'], bins=[0, 60, 120, 180, 300], labels=['court', 'moyen', 'long', 'très long'])\n"
   ]
  },
  {
   "cell_type": "code",
   "execution_count": 35,
   "metadata": {},
   "outputs": [],
   "source": [
    "# 21. Créer une variable binaire si une durée dépasse la médiane\n",
    "if 'duration_num' in df.columns:\n",
    "    df['duree_sup_median'] = df['duration_num'] > df['duration_num'].median()"
   ]
  },
  {
   "cell_type": "code",
   "execution_count": 36,
   "metadata": {},
   "outputs": [
    {
     "name": "stdout",
     "output_type": "stream",
     "text": [
      "  show_id                  title         director  \\\n",
      "0      s1   Dick Johnson Is Dead  Kirsten Johnson   \n",
      "1      s2          Blood & Water    Rajiv Chilaka   \n",
      "2      s3              Ganglands  Julien Leclercq   \n",
      "3      s4  Jailbirds New Orleans    Rajiv Chilaka   \n",
      "4      s5           Kota Factory    Rajiv Chilaka   \n",
      "\n",
      "                                                cast        country  \\\n",
      "0                                 David Attenborough  United States   \n",
      "1  Ama Qamata, Khosi Ngema, Gail Mabalane, Thaban...   South Africa   \n",
      "2  Sami Bouajila, Tracy Gotoas, Samuel Jouy, Nabi...  United States   \n",
      "3                                 David Attenborough  United States   \n",
      "4  Mayur More, Jitendra Kumar, Ranjan Raj, Alam K...          India   \n",
      "\n",
      "           date_added  release_year rating   duration  \\\n",
      "0  September 25, 2021          2020  PG-13     90 min   \n",
      "1  September 24, 2021          2021  TV-MA  2 Seasons   \n",
      "2  September 24, 2021          2021  TV-MA   1 Season   \n",
      "3  September 24, 2021          2021  TV-MA   1 Season   \n",
      "4  September 24, 2021          2021  TV-MA  2 Seasons   \n",
      "\n",
      "                                           listed_in  \\\n",
      "0                                      Documentaries   \n",
      "1    International TV Shows, TV Dramas, TV Mysteries   \n",
      "2  Crime TV Shows, International TV Shows, TV Act...   \n",
      "3                             Docuseries, Reality TV   \n",
      "4  International TV Shows, Romantic TV Shows, TV ...   \n",
      "\n",
      "                                         description  duration_num  \\\n",
      "0  As her father nears the end of his life, filmm...          90.0   \n",
      "1  After crossing paths at a party, a Cape Town t...           2.0   \n",
      "2  To protect his family from a powerful drug lor...           1.0   \n",
      "3  Feuds, flirtations and toilet talk go down amo...           1.0   \n",
      "4  In a city of coaching centers known to train I...           2.0   \n",
      "\n",
      "   type_TV Show  duration_norm  majeur categorie_duree  duree_sup_median  \n",
      "0         False       0.353175   False           moyen              True  \n",
      "1          True       0.003968    True           court             False  \n",
      "2          True       0.000000    True           court             False  \n",
      "3          True       0.000000    True           court             False  \n",
      "4          True       0.003968    True           court             False  \n"
     ]
    }
   ],
   "source": [
    "# Afficher les 5 premières lignes finales\n",
    "print(df.head())"
   ]
  }
 ],
 "metadata": {
  "kernelspec": {
   "display_name": "datascience",
   "language": "python",
   "name": "python3"
  },
  "language_info": {
   "codemirror_mode": {
    "name": "ipython",
    "version": 3
   },
   "file_extension": ".py",
   "mimetype": "text/x-python",
   "name": "python",
   "nbconvert_exporter": "python",
   "pygments_lexer": "ipython3",
   "version": "3.9.21"
  }
 },
 "nbformat": 4,
 "nbformat_minor": 2
}
