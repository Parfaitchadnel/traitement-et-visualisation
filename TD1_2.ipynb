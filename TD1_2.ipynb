{
 "cells": [
  {
   "cell_type": "code",
   "execution_count": 1,
   "metadata": {},
   "outputs": [],
   "source": [
    "import pandas as pd"
   ]
  },
  {
   "cell_type": "code",
   "execution_count": null,
   "metadata": {},
   "outputs": [
    {
     "name": "stdout",
     "output_type": "stream",
     "text": [
      "Taille StudentsPerformance: (1000, 8)\n",
      "Taille Netflix Titles: (8807, 12)\n"
     ]
    }
   ],
   "source": [
    "# 1. Charger les deux datasets et afficher leur taille\n",
    "df_students = pd.read_csv(\"StudentsPerformance.csv\")\n",
    "df_netflix = pd.read_csv(\"netflix_titles.csv\")\n",
    "print(\"Taille StudentsPerformance:\", df_students.shape)\n",
    "print(\"Taille Netflix Titles:\", df_netflix.shape)"
   ]
  },
  {
   "cell_type": "code",
   "execution_count": 3,
   "metadata": {},
   "outputs": [
    {
     "name": "stdout",
     "output_type": "stream",
     "text": [
      "Taille du dataset fusionné: (100, 21)\n"
     ]
    }
   ],
   "source": [
    "# Créons une colonne 'id' fictive pour la jointure (ex: les 100 premières lignes seulement)\n",
    "df_students = df_students.head(100).copy()\n",
    "df_netflix = df_netflix.head(100).copy()\n",
    "df_students['id'] = range(1, 101)\n",
    "df_netflix['id'] = range(1, 101)\n",
    "# 2. Effectuer une jointure sur la colonne commune 'id'\n",
    "df_merged = pd.merge(df_students, df_netflix, on='id')\n",
    "\n",
    "print(\"Taille du dataset fusionné:\", df_merged.shape)"
   ]
  },
  {
   "cell_type": "code",
   "execution_count": 4,
   "metadata": {},
   "outputs": [
    {
     "name": "stdout",
     "output_type": "stream",
     "text": [
      "   gender race/ethnicity parental level of education         lunch  \\\n",
      "0  female        group B           bachelor's degree      standard   \n",
      "1  female        group C                some college      standard   \n",
      "2  female        group B             master's degree      standard   \n",
      "3    male        group A          associate's degree  free/reduced   \n",
      "4    male        group C                some college      standard   \n",
      "\n",
      "  test preparation course  math score  reading score  writing score  id  \\\n",
      "0                    none          72             72             74   1   \n",
      "1               completed          69             90             88   2   \n",
      "2                    none          90             95             93   3   \n",
      "3                    none          47             57             44   4   \n",
      "4                    none          76             78             75   5   \n",
      "\n",
      "                   title          date_added  \n",
      "0   Dick Johnson Is Dead  September 25, 2021  \n",
      "1          Blood & Water  September 24, 2021  \n",
      "2              Ganglands  September 24, 2021  \n",
      "3  Jailbirds New Orleans  September 24, 2021  \n",
      "4           Kota Factory  September 24, 2021  \n"
     ]
    }
   ],
   "source": [
    "# 3. Ajouter de nouvelles colonnes à df_students depuis df_netflix\n",
    "# Exemple : on ajoute 'title' et 'date_added' à df_students\n",
    "df_students_extended = df_students.merge(df_netflix[['id', 'title', 'date_added']], on='id')\n",
    "\n",
    "print(df_students_extended.head())"
   ]
  }
 ],
 "metadata": {
  "kernelspec": {
   "display_name": "datascience",
   "language": "python",
   "name": "python3"
  },
  "language_info": {
   "codemirror_mode": {
    "name": "ipython",
    "version": 3
   },
   "file_extension": ".py",
   "mimetype": "text/x-python",
   "name": "python",
   "nbconvert_exporter": "python",
   "pygments_lexer": "ipython3",
   "version": "3.9.21"
  }
 },
 "nbformat": 4,
 "nbformat_minor": 2
}
